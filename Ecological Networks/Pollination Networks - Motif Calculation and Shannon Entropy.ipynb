{
 "cells": [
  {
   "cell_type": "code",
   "execution_count": null,
   "id": "326b059f",
   "metadata": {},
   "outputs": [],
   "source": [
    "pip install dataframe-image"
   ]
  },
  {
   "cell_type": "code",
   "execution_count": 4,
   "id": "1a705dab",
   "metadata": {},
   "outputs": [],
   "source": [
    "import csv\n",
    "import pandas as pd\n",
    "import glob\n",
    "import numpy as np\n",
    "import matplotlib.pyplot as plt\n",
    "import scipy.stats as sc\n",
    "import seaborn as sb\n",
    "import networkx as nx\n",
    "import dataframe_image as dfi\n",
    "from BMotifs import Motifs"
   ]
  },
  {
   "cell_type": "code",
   "execution_count": 5,
   "id": "5a85cb82",
   "metadata": {},
   "outputs": [],
   "source": [
    "def motifs(df: pd.DataFrame, result: str):\n",
    "    \n",
    "        mat = df.to_numpy()\n",
    "        p = Motifs(M = mat)\n",
    "        p.count_motifs(range(1, 45))\n",
    "        m_counts = p.motifs\n",
    "        \n",
    "        # Relative Frequencies\n",
    "        if result == \"rel_freq\":\n",
    "            x = m_counts[\"Motif\"].values\n",
    "            rel_freq = list(x) / sum(x)\n",
    "            \n",
    "            return rel_freq\n",
    "        elif result == \"counts\":\n",
    "            return m_counts"
   ]
  },
  {
   "cell_type": "code",
   "execution_count": 6,
   "id": "67628bc0",
   "metadata": {},
   "outputs": [],
   "source": [
    "def shannon_entropy(a: np.array, n: int):\n",
    "    \n",
    "    entropy_value = sc.entropy(a, base = 2)\n",
    "    max_entropy = np.log2(n)\n",
    "    \n",
    "    return entropy_value / max_entropy"
   ]
  },
  {
   "cell_type": "code",
   "execution_count": 7,
   "id": "1e842fe7",
   "metadata": {},
   "outputs": [],
   "source": [
    "def pearson_corr(x1: np.array, x2):\n",
    "\n",
    "    if type(x2) != type(x1):\n",
    "        x2 = np.array(x2)\n",
    "        \n",
    "    return list(sc.pearsonr(x1, x2))"
   ]
  },
  {
   "cell_type": "code",
   "execution_count": 8,
   "id": "484383d1",
   "metadata": {},
   "outputs": [],
   "source": [
    "def descr_stat(df: pd.DataFrame, var_name: str) -> pd.DataFrame:\n",
    "    '''\n",
    "    A function that calculates some elementary\n",
    "    statistic metrics.\n",
    "    \n",
    "    Input: pandas DataFrame\n",
    "    \n",
    "    Output: pandas Dataframe w/ each statistic measure as a column\n",
    "    '''\n",
    "    # Creating the output dataframe\n",
    "    stat_values = pd.DataFrame()\n",
    "    \n",
    "    # Variable names\n",
    "    stat_values[var_name] = df.index.values\n",
    "    \n",
    "    # Arithmetic Average\n",
    "    stat_values[\"Mean\"] = df.mean(axis = 1, numeric_only = True)\n",
    "    \n",
    "    # Median\n",
    "    stat_values[\"Median\"] = df.median(axis = 1, numeric_only = True)\n",
    "    \n",
    "    # Standard Deviation\n",
    "    stat_values[\"Standard Deviation\"] = df.std(axis = 1, numeric_only = True)\n",
    "    \n",
    "    # Skewness\n",
    "    stat_values[\"Skewness\"] = df.skew(axis = 1, numeric_only = True)\n",
    "    \n",
    "    return stat_values"
   ]
  },
  {
   "cell_type": "code",
   "execution_count": 9,
   "id": "eef98be2",
   "metadata": {},
   "outputs": [],
   "source": [
    "def total_var_dist(p, q):\n",
    "    diff = np.abs(p - q)\n",
    "    \n",
    "    return 0.5 * np.sum(diff)   "
   ]
  },
  {
   "cell_type": "code",
   "execution_count": 33,
   "id": "e1c8586e",
   "metadata": {},
   "outputs": [],
   "source": [
    "def z_score(n_empirical, mean_null, stdev_null):\n",
    "    return (n_empirical - mean_null) / stdev_null    "
   ]
  },
  {
   "cell_type": "markdown",
   "id": "fe25afda",
   "metadata": {},
   "source": [
    "### Loading Data"
   ]
  },
  {
   "cell_type": "code",
   "execution_count": 10,
   "id": "4fb41254",
   "metadata": {},
   "outputs": [],
   "source": [
    "# Loading the datasets\n",
    "d_frames = []\n",
    "folder_path = \"data/\"\n",
    "\n",
    "glob_pattern = folder_path + \"M_*\" + \".csv\"\n",
    "csv_files = glob.glob(glob_pattern)\n",
    "csv_files_sorted = sorted(csv_files)\n",
    "for file in csv_files_sorted:\n",
    "    dataset = pd.read_csv(file, index_col = 0)\n",
    "    d_frames.append(dataset)\n",
    "    \n",
    "# Information about the networks \n",
    "info = pd.read_csv(\"data/references.csv\")\n",
    "\n",
    "# Including supplementary information regarding the area of the networks and habitat proximity\n",
    "area = [190, 541, 13, 1692, 49, 243, 396, 229, 12, 13, 2147, 2079]\n",
    "habit_prox = [73.4, 28.3, 331, 26.5, 0.2, 44.6, 1772.8, 73.6, \n",
    "              112.7, 104.3, 1783.1, 1731.8]\n",
    "\n",
    "info[\"Area(ha)\"], info[\"Habitat Proximity(ha)\"] = area, habit_prox"
   ]
  },
  {
   "cell_type": "markdown",
   "id": "837b0a1d",
   "metadata": {},
   "source": [
    "### Creating the Networks"
   ]
  },
  {
   "cell_type": "code",
   "execution_count": null,
   "id": "b14ef4ff",
   "metadata": {},
   "outputs": [],
   "source": [
    "# Generating an empty network list\n",
    "empty_nets = []\n",
    "for i in range(0, 12):\n",
    "    G = nx.Graph()\n",
    "    empty_nets.append(G)\n",
    "    \n",
    "# Generating the pollination networks\n",
    "net_list = {}\n",
    "counter = 1\n",
    "\n",
    "for j, k in zip(d_frames, empty_nets):\n",
    "    k.add_nodes_from(j.index, bipartite = 0)\n",
    "    k.add_nodes_from(j.columns, bipartite = 1)\n",
    "\n",
    "    for row in j.index:\n",
    "        for col in j.columns:\n",
    "            if j.loc[row, col] == 1:\n",
    "                k.add_edge(row, col)\n",
    "                \n",
    "    net_list.update({\"Net {}\".format(counter): k})\n",
    "    counter += 1"
   ]
  },
  {
   "cell_type": "markdown",
   "id": "53ed1187",
   "metadata": {},
   "source": [
    "### Motifs and Entropy"
   ]
  },
  {
   "cell_type": "code",
   "execution_count": 11,
   "id": "f345d6d6",
   "metadata": {},
   "outputs": [],
   "source": [
    "# Calculation of Motif Occurrences\n",
    "motifs_rel_freq = {\n",
    "    \"Motif ID\": [_ for _ in range(1, 45)]\n",
    "}\n",
    "\n",
    "for i, df in enumerate(d_frames):\n",
    "    calculation = motifs(df, \"rel_freq\")\n",
    "    element = {\"Net {}\".format(i + 1): calculation}\n",
    "    motifs_rel_freq.update(element)\n",
    "\n",
    "df_motifs_rf = pd.DataFrame(motifs_rel_freq)"
   ]
  },
  {
   "cell_type": "code",
   "execution_count": 12,
   "id": "f3ef9985",
   "metadata": {},
   "outputs": [],
   "source": [
    "# Entropy Calculation\n",
    "names = [\"Net {}\".format(i) for i in range(1, 13)]\n",
    "entropies = pd.DataFrame({\n",
    "    \"Network Identifier\": names,\n",
    "    \"Entropy\": [shannon_entropy(df_motifs_rf[_].values, 44) for _ in names]\n",
    "})"
   ]
  },
  {
   "cell_type": "code",
   "execution_count": 13,
   "id": "b1a800b6",
   "metadata": {},
   "outputs": [
    {
     "data": {
      "image/png": "[encoded data removed]",
      "text/plain": [
       "<Figure size 750x400 with 1 Axes>"
      ]
     },
     "metadata": {},
     "output_type": "display_data"
    }
   ],
   "source": [
    "# Visualizing entropy variation\n",
    "sb.set(rc={'figure.figsize':(7.5, 4)})\n",
    "plt.figure()\n",
    "plot_sb = sb.lineplot(x=\"Network Identifier\", y=\"Entropy\", data = entropies, \n",
    "            marker='*', markerfacecolor='red')\n",
    "plt.xlabel(\"Network ID\")\n",
    "plt.ylabel(\"Entropy\")\n",
    "plt.title(\"Entropy variation among the networks\")\n",
    "\n",
    "plt.xticks(rotation = 45)\n",
    "\n",
    "plt.tight_layout()\n",
    "plt.show()\n",
    "\n",
    "figure = plot_sb.get_figure()    \n",
    "#figure.savefig('Entropy Variation.png', dpi=400)"
   ]
  },
  {
   "cell_type": "markdown",
   "id": "f45b9562",
   "metadata": {},
   "source": [
    "### Correlations with Ecological Variables"
   ]
  },
  {
   "cell_type": "code",
   "execution_count": 14,
   "id": "5e17afe6",
   "metadata": {},
   "outputs": [],
   "source": [
    "floral_abd = []\n",
    "for _ in d_frames:\n",
    "    x = len(_.index)\n",
    "    floral_abd.append(x)\n",
    "# Deleting the values of Difuntito protected area\n",
    "dif_index = 2\n",
    "del area[dif_index]\n",
    "del habit_prox[dif_index]\n",
    "del floral_abd[dif_index]\n",
    "entropies_values = entropies[\"Entropy\"].values\n",
    "entropies_values = np.delete(entropies_values, dif_index)\n",
    "connectance = info[\"Connectance\"].values\n",
    "connectance = np.delete(connectance, dif_index)"
   ]
  },
  {
   "cell_type": "code",
   "execution_count": 15,
   "id": "7278b0ef",
   "metadata": {},
   "outputs": [],
   "source": [
    "# List of ecological variables\n",
    "ecol_var = [floral_abd, area, habit_prox, connectance]\n",
    "variables = [\"Floral Abundance\", \"Habitat area (ha)\", \"Habitat proximity (ha)\", \"Connectance\"]\n",
    "\n",
    "df_entropies = pd.DataFrame({\n",
    "    \"Variable\": variables,\n",
    "    \"Statistic\": [pearson_corr(entropies_values, i)[0] for i in ecol_var],\n",
    "    \"p-value\": [pearson_corr(entropies_values, j)[1] for j in ecol_var]\n",
    "})"
   ]
  },
  {
   "cell_type": "code",
   "execution_count": 16,
   "id": "05e1689b",
   "metadata": {},
   "outputs": [],
   "source": [
    "# Investigating the correlation of the Ecological Variables with Nestedness and Modularity\n",
    "nest = [5.073, 5.726, 5.514, 8.642, 8.299, 4.834, 10.152, 5.318, 5.134, 10.696, 7.431, 5.656]\n",
    "mod = [0.459, 0.466, 0.424 ,0.412 ,0.424, 0.448, 0.394, 0.418, 0.449, 0.442, 0.391, 0.414]\n",
    "\n",
    "del nest[dif_index]\n",
    "del mod[dif_index]\n",
    "\n",
    "nest = np.array(nest)\n",
    "mod = np.array(mod)\n",
    "\n",
    "df_nest = pd.DataFrame({\n",
    "    \"Variable\": variables, \n",
    "    \"Statistic\": [pearson_corr(nest, i)[0] for i in ecol_var],\n",
    "    \"p-value\": [pearson_corr(nest, j)[1] for j in ecol_var]\n",
    "})\n",
    "\n",
    "df_mod = pd.DataFrame({\n",
    "    \"Variable\": variables, \n",
    "    \"Statistic\": [pearson_corr(mod, i)[0] for i in ecol_var],\n",
    "    \"p-value\": [pearson_corr(mod, j)[1] for j in ecol_var]\n",
    "})"
   ]
  },
  {
   "cell_type": "code",
   "execution_count": 17,
   "id": "c1fbf180",
   "metadata": {},
   "outputs": [],
   "source": [
    "# Correlation matrix\n",
    "correlation_matrix = pd.DataFrame({\n",
    "    \"Variable\": variables,\n",
    "    \"Entropy\": df_entropies[\"Statistic\"].values,\n",
    "    \"Nestedness\": df_nest[\"Statistic\"].values,\n",
    "    \"Modularity\": df_mod[\"Statistic\"].values\n",
    "})\n",
    "correlation_matrix.set_index(\"Variable\", inplace = True)"
   ]
  },
  {
   "cell_type": "code",
   "execution_count": 18,
   "id": "c5f54c6e",
   "metadata": {},
   "outputs": [],
   "source": [
    "# p-value matrix\n",
    "pval_matrix = pd.DataFrame({\n",
    "    \"Variable\": variables,\n",
    "    \"Entropy\": df_entropies[\"p-value\"].values,\n",
    "    \"Nestedness\": df_nest[\"p-value\"].values,\n",
    "    \"Modularity\": df_mod[\"p-value\"].values\n",
    "})\n",
    "pval_matrix.set_index(\"Variable\", inplace = True)"
   ]
  },
  {
   "cell_type": "code",
   "execution_count": 19,
   "id": "73f83556",
   "metadata": {},
   "outputs": [
    {
     "data": {
      "image/png": "[encoded data removed]",
      "text/plain": [
       "<Figure size 1000x600 with 4 Axes>"
      ]
     },
     "metadata": {},
     "output_type": "display_data"
    }
   ],
   "source": [
    "# Visualizing correlations and p-values\n",
    "fig, axes = plt.subplots(1, 2, figsize = (10, 6))\n",
    "\n",
    "# Correlation\n",
    "sb.heatmap(correlation_matrix, annot = True, cmap='coolwarm', \n",
    "            linewidths=0.5, linecolor='black', cbar=True, square=True, ax=axes[0], cbar_kws={\"shrink\": 0.75})\n",
    "axes[0].set_title('Correlation Heatmap')\n",
    "\n",
    "# p-values\n",
    "sb.heatmap(pval_matrix, annot=True, cmap='coolwarm', linewidths=0.5, linecolor='black', \n",
    "           cbar=True, square=True, ax=axes[1], cbar_kws={\"shrink\": 0.75}, yticklabels = False)\n",
    "axes[1].set_title('P-value Heatmap')\n",
    "\n",
    "plt.subplots_adjust(wspace=0.4)\n",
    "plt.tight_layout()\n",
    "#plt.savefig(\"Heatmap.png\")\n",
    "plt.show()"
   ]
  },
  {
   "cell_type": "markdown",
   "id": "9bf899b6",
   "metadata": {},
   "source": [
    "### Summary Statistics"
   ]
  },
  {
   "cell_type": "code",
   "execution_count": 20,
   "id": "e0003e32",
   "metadata": {},
   "outputs": [],
   "source": [
    "# Removing Difuntito network\n",
    "df_motifs_rf.drop(columns = \"Net 3\", inplace = True)"
   ]
  },
  {
   "cell_type": "code",
   "execution_count": 21,
   "id": "8b9a2284",
   "metadata": {},
   "outputs": [],
   "source": [
    "df_motifs_rf.set_index(\"Motif ID\", inplace = True)"
   ]
  },
  {
   "cell_type": "code",
   "execution_count": 22,
   "id": "4137eae0",
   "metadata": {},
   "outputs": [],
   "source": [
    "stat_measures = descr_stat(df_motifs_rf, \"Motif ID\")\n",
    "stat_measures.set_index(\"Motif ID\", inplace = True)"
   ]
  },
  {
   "cell_type": "code",
   "execution_count": 23,
   "id": "6862827b",
   "metadata": {},
   "outputs": [
    {
     "name": "stdout",
     "output_type": "stream",
     "text": [
      "\\begin{tabular}{lrrrr}\n",
      " & Mean & Median & Standard Deviation & Skewness \\\\\n",
      "Motif ID &  &  &  &  \\\\\n",
      "39 & 0.179925 & 0.188754 & 0.034410 & -0.609505 \\\\\n",
      "40 & 0.118457 & 0.110292 & 0.022941 & 0.372079 \\\\\n",
      "26 & 0.076246 & 0.080297 & 0.032650 & -0.345222 \\\\\n",
      "28 & 0.052474 & 0.054533 & 0.024492 & -0.027278 \\\\\n",
      "41 & 0.051037 & 0.052286 & 0.013726 & -0.524593 \\\\\n",
      "20 & 0.044471 & 0.034683 & 0.039476 & 0.854004 \\\\\n",
      "30 & 0.042352 & 0.046915 & 0.012299 & -1.340439 \\\\\n",
      "27 & 0.040591 & 0.041884 & 0.010990 & -1.595761 \\\\\n",
      "29 & 0.031516 & 0.030602 & 0.013316 & 0.371791 \\\\\n",
      "14 & 0.030235 & 0.029151 & 0.004363 & -0.243416 \\\\\n",
      "\\end{tabular}\n",
      "\n"
     ]
    }
   ],
   "source": [
    "# Most Overpresented Motifs -> table for latex\n",
    "top_10 = stat_measures.nlargest(n=10, columns='Mean')\n",
    "print(top_10.style.to_latex())"
   ]
  },
  {
   "cell_type": "markdown",
   "id": "5a7ca764",
   "metadata": {},
   "source": [
    "### Total Variation Distance"
   ]
  },
  {
   "cell_type": "code",
   "execution_count": 24,
   "id": "e55aa61f",
   "metadata": {},
   "outputs": [],
   "source": [
    "total_var = []\n",
    "for i in range(len(df_motifs_rf.columns)):\n",
    "    for j in range(i+1, len(df_motifs_rf.columns)):\n",
    "        a, b = df_motifs_rf.iloc[:, i].values, df_motifs_rf.iloc[:, j].values\n",
    "        tvd = total_var_dist(a, b)\n",
    "        total_var.append(tvd)"
   ]
  },
  {
   "cell_type": "markdown",
   "id": "e6dbc2d6",
   "metadata": {},
   "source": [
    "###### 1) Correlation with common species"
   ]
  },
  {
   "cell_type": "code",
   "execution_count": 25,
   "id": "ada3ee98",
   "metadata": {},
   "outputs": [],
   "source": [
    "# Matched Species : the key in the dictionaries corresponds to the two networks that are being compared\n",
    "pollinators = {}\n",
    "plants = {}\n",
    "\n",
    "for i in range(0, len(d_frames) - 1):\n",
    "    for j in range(i+1, len(d_frames)):\n",
    "        # Common pollinators\n",
    "        common_poll = set(d_frames[i].columns)\n",
    "        pollinators.update({\"{}-{}\".format(i+1, j+1): [x for x in d_frames[j].columns if x in common_poll]})\n",
    "        # Common plants\n",
    "        common_plants = list(d_frames[i].index.intersection(d_frames[j].index))\n",
    "        plants.update({\"{}-{}\".format(i+1, j+1): common_plants}) \n",
    "        \n",
    "# Data frames of common pollinators and plants\n",
    "pollinators_df = pd.DataFrame(dict([ (k,pd.Series(v)) for k,v in pollinators.items() ]))\n",
    "plants_df = pd.DataFrame(dict([ (k,pd.Series(v)) for k,v in plants.items() ]))"
   ]
  },
  {
   "cell_type": "code",
   "execution_count": 26,
   "id": "92f2454d",
   "metadata": {},
   "outputs": [],
   "source": [
    "# Number of common species\n",
    "poll_no = []\n",
    "plant_no = []\n",
    "\n",
    "for key in pollinators:\n",
    "    poll_no.append(len(pollinators[key]))\n",
    "\n",
    "for key in plants:\n",
    "    plant_no.append(len(plants[key]))\n",
    "    \n",
    "common_sp = [x + y for x, y in zip(poll_no, plant_no)]"
   ]
  },
  {
   "cell_type": "code",
   "execution_count": 27,
   "id": "2b1a97ca",
   "metadata": {},
   "outputs": [],
   "source": [
    "combinations = list(pollinators_df.columns.values)"
   ]
  },
  {
   "cell_type": "code",
   "execution_count": 28,
   "id": "1cf8fe7b",
   "metadata": {},
   "outputs": [],
   "source": [
    "# Data Frame that contains number of common species for each network combination\n",
    "common = {\n",
    "    \"Combination\": combinations,\n",
    "    \"Common Sp\": common_sp,\n",
    "    \"Common Poll\": poll_no,\n",
    "    \"Common Plants\": plant_no\n",
    "}\n",
    "df_common = pd.DataFrame(common)\n",
    "df_common.set_index(\"Combination\", inplace = True)\n",
    "\n",
    "# Removing Difuntito\n",
    "for _ in df_common.index.values:\n",
    "    if \"3\" in _:\n",
    "        df_common.drop(_, inplace = True)"
   ]
  },
  {
   "cell_type": "markdown",
   "id": "17d366be",
   "metadata": {},
   "source": [
    "###### 2) Correlation with common links"
   ]
  },
  {
   "cell_type": "code",
   "execution_count": 29,
   "id": "4df394e0",
   "metadata": {},
   "outputs": [
    {
     "ename": "NameError",
     "evalue": "name 'net_list' is not defined",
     "output_type": "error",
     "traceback": [
      "\u001b[0;31m---------------------------------------------------------------------------\u001b[0m",
      "\u001b[0;31mNameError\u001b[0m                                 Traceback (most recent call last)",
      "Cell \u001b[0;32mIn[29], line 4\u001b[0m\n\u001b[1;32m      1\u001b[0m \u001b[38;5;66;03m# Finding common links\u001b[39;00m\n\u001b[1;32m      2\u001b[0m common_edges_df \u001b[38;5;241m=\u001b[39m pd\u001b[38;5;241m.\u001b[39mDataFrame(columns\u001b[38;5;241m=\u001b[39m[\u001b[38;5;124m'\u001b[39m\u001b[38;5;124mPair\u001b[39m\u001b[38;5;124m'\u001b[39m, \u001b[38;5;124m'\u001b[39m\u001b[38;5;124mPercentage of Common Edges\u001b[39m\u001b[38;5;124m'\u001b[39m]) \n\u001b[0;32m----> 4\u001b[0m \u001b[38;5;28;01mfor\u001b[39;00m i \u001b[38;5;129;01min\u001b[39;00m \u001b[38;5;28mrange\u001b[39m(\u001b[38;5;28mlen\u001b[39m(\u001b[43mnet_list\u001b[49m)):\n\u001b[1;32m      5\u001b[0m     \u001b[38;5;28;01mfor\u001b[39;00m j \u001b[38;5;129;01min\u001b[39;00m \u001b[38;5;28mrange\u001b[39m(i \u001b[38;5;241m+\u001b[39m \u001b[38;5;241m1\u001b[39m, \u001b[38;5;28mlen\u001b[39m(net_list)):\n\u001b[1;32m      6\u001b[0m         edges1 \u001b[38;5;241m=\u001b[39m \u001b[38;5;28mset\u001b[39m(net_list[\u001b[38;5;124m\"\u001b[39m\u001b[38;5;124mNet \u001b[39m\u001b[38;5;132;01m{}\u001b[39;00m\u001b[38;5;124m\"\u001b[39m\u001b[38;5;241m.\u001b[39mformat(i\u001b[38;5;241m+\u001b[39m\u001b[38;5;241m1\u001b[39m)]\u001b[38;5;241m.\u001b[39medges())\n",
      "\u001b[0;31mNameError\u001b[0m: name 'net_list' is not defined"
     ]
    }
   ],
   "source": [
    "# Finding common links\n",
    "common_edges_df = pd.DataFrame(columns=['Pair', 'Percentage of Common Edges']) \n",
    "\n",
    "for i in range(len(net_list)):\n",
    "    for j in range(i + 1, len(net_list)):\n",
    "        edges1 = set(net_list[\"Net {}\".format(i+1)].edges())\n",
    "        edges2 = set(net_list[\"Net {}\".format(j+1)].edges())\n",
    "        \n",
    "        common_edges = edges1.intersection(edges2)\n",
    "        denominator = len(edges1.union(edges2))\n",
    "        percentage = (len(common_edges) / denominator)\n",
    "        pair = f\"{i+1}-{j+1}\"\n",
    "        common_edges_df = common_edges_df.append({'Pair': pair, \n",
    "                                                  'Percentage of Common Edges': percentage}, ignore_index=True)\n",
    "common_edges_df.set_index(\"Pair\", inplace = True)"
   ]
  },
  {
   "cell_type": "code",
   "execution_count": null,
   "id": "bf5b78bf",
   "metadata": {},
   "outputs": [],
   "source": [
    "# Removing Difuntito\n",
    "for _ in common_edges_df.index.values:\n",
    "    if \"3\" in _:\n",
    "        common_edges_df.drop(_, inplace = True)"
   ]
  },
  {
   "cell_type": "code",
   "execution_count": null,
   "id": "bdbcdc36",
   "metadata": {},
   "outputs": [],
   "source": [
    "df_common[\"Common Links\"] = common_edges_df[\"Percentage of Common Edges\"].values\n",
    "df_common[\"TVD\"] = total_var"
   ]
  },
  {
   "cell_type": "code",
   "execution_count": null,
   "id": "8108fe68",
   "metadata": {},
   "outputs": [],
   "source": [
    "# Correlation and p-values for TVD\n",
    "var_corr = [df_common.iloc[:, i] for i in range(4)]\n",
    "df_tvd = pd.DataFrame({\n",
    "    \"Variable\": df_common.columns[0:-1], \n",
    "    \"Statistic\": [pearson_corr(total_var, i)[0] for i in var_corr],\n",
    "    \"p-value\": [pearson_corr(total_var, j)[1] for j in var_corr]\n",
    "})"
   ]
  },
  {
   "cell_type": "code",
   "execution_count": null,
   "id": "fb8ebb5b",
   "metadata": {},
   "outputs": [],
   "source": [
    "df_tvd"
   ]
  },
  {
   "cell_type": "code",
   "execution_count": null,
   "id": "255a40ad",
   "metadata": {
    "scrolled": true
   },
   "outputs": [],
   "source": [
    "# Barplot for correlation and p-values\n",
    "fig, (ax1, ax2) = plt.subplots(ncols = 2, figsize=(8, 4))\n",
    "\n",
    "# Define the x-axis positions for the bars\n",
    "x = [\"Species\", \"Pollinators\", \"Plants\", \"Links\"]\n",
    "\n",
    "# Set the width of each bar\n",
    "width = 0.35\n",
    "\n",
    "# Create the first bar plot\n",
    "ax1.bar(x, df_tvd[\"Statistic\"], width, color='blue')\n",
    "ax1.set_title('Pearson Correlation')\n",
    "ax1.set_xlabel('Common Variable')\n",
    "ax1.set_ylabel('Value')\n",
    "\n",
    "# Create the second bar plot\n",
    "ax2.bar(x, df_tvd[\"p-value\"], width, color='red')\n",
    "ax2.set_title('P-value')\n",
    "ax2.set_xlabel('Common Variable')\n",
    "ax2.set_ylabel('Value')\n",
    "\n",
    "fig.autofmt_xdate()\n",
    "plt.tight_layout()\n",
    "plt.savefig(\"Corr-p Barplot.png\")\n",
    "plt.show()"
   ]
  },
  {
   "cell_type": "markdown",
   "id": "c0ebc768",
   "metadata": {},
   "source": [
    "### Null Models"
   ]
  },
  {
   "cell_type": "code",
   "execution_count": 30,
   "id": "f67be86a",
   "metadata": {},
   "outputs": [
    {
     "name": "stderr",
     "output_type": "stream",
     "text": [
      "/tmp/ipykernel_9655/3150799991.py:14: PerformanceWarning: DataFrame is highly fragmented.  This is usually the result of calling `frame.insert` many times, which has poor performance.  Consider joining all columns at once using pd.concat(axis=1) instead. To get a de-fragmented frame, use `newframe = frame.copy()`\n",
      "  null_df[\"Model {}\".format(j+1)] = motif_counts[\"Motif\"].values\n",
      "/tmp/ipykernel_9655/3150799991.py:14: PerformanceWarning: DataFrame is highly fragmented.  This is usually the result of calling `frame.insert` many times, which has poor performance.  Consider joining all columns at once using pd.concat(axis=1) instead. To get a de-fragmented frame, use `newframe = frame.copy()`\n",
      "  null_df[\"Model {}\".format(j+1)] = motif_counts[\"Motif\"].values\n",
      "/tmp/ipykernel_9655/3150799991.py:14: PerformanceWarning: DataFrame is highly fragmented.  This is usually the result of calling `frame.insert` many times, which has poor performance.  Consider joining all columns at once using pd.concat(axis=1) instead. To get a de-fragmented frame, use `newframe = frame.copy()`\n",
      "  null_df[\"Model {}\".format(j+1)] = motif_counts[\"Motif\"].values\n",
      "/tmp/ipykernel_9655/3150799991.py:14: PerformanceWarning: DataFrame is highly fragmented.  This is usually the result of calling `frame.insert` many times, which has poor performance.  Consider joining all columns at once using pd.concat(axis=1) instead. To get a de-fragmented frame, use `newframe = frame.copy()`\n",
      "  null_df[\"Model {}\".format(j+1)] = motif_counts[\"Motif\"].values\n",
      "/tmp/ipykernel_9655/3150799991.py:14: PerformanceWarning: DataFrame is highly fragmented.  This is usually the result of calling `frame.insert` many times, which has poor performance.  Consider joining all columns at once using pd.concat(axis=1) instead. To get a de-fragmented frame, use `newframe = frame.copy()`\n",
      "  null_df[\"Model {}\".format(j+1)] = motif_counts[\"Motif\"].values\n",
      "/tmp/ipykernel_9655/3150799991.py:14: PerformanceWarning: DataFrame is highly fragmented.  This is usually the result of calling `frame.insert` many times, which has poor performance.  Consider joining all columns at once using pd.concat(axis=1) instead. To get a de-fragmented frame, use `newframe = frame.copy()`\n",
      "  null_df[\"Model {}\".format(j+1)] = motif_counts[\"Motif\"].values\n",
      "/tmp/ipykernel_9655/3150799991.py:14: PerformanceWarning: DataFrame is highly fragmented.  This is usually the result of calling `frame.insert` many times, which has poor performance.  Consider joining all columns at once using pd.concat(axis=1) instead. To get a de-fragmented frame, use `newframe = frame.copy()`\n",
      "  null_df[\"Model {}\".format(j+1)] = motif_counts[\"Motif\"].values\n",
      "/tmp/ipykernel_9655/3150799991.py:14: PerformanceWarning: DataFrame is highly fragmented.  This is usually the result of calling `frame.insert` many times, which has poor performance.  Consider joining all columns at once using pd.concat(axis=1) instead. To get a de-fragmented frame, use `newframe = frame.copy()`\n",
      "  null_df[\"Model {}\".format(j+1)] = motif_counts[\"Motif\"].values\n",
      "/tmp/ipykernel_9655/3150799991.py:14: PerformanceWarning: DataFrame is highly fragmented.  This is usually the result of calling `frame.insert` many times, which has poor performance.  Consider joining all columns at once using pd.concat(axis=1) instead. To get a de-fragmented frame, use `newframe = frame.copy()`\n",
      "  null_df[\"Model {}\".format(j+1)] = motif_counts[\"Motif\"].values\n",
      "/tmp/ipykernel_9655/3150799991.py:14: PerformanceWarning: DataFrame is highly fragmented.  This is usually the result of calling `frame.insert` many times, which has poor performance.  Consider joining all columns at once using pd.concat(axis=1) instead. To get a de-fragmented frame, use `newframe = frame.copy()`\n",
      "  null_df[\"Model {}\".format(j+1)] = motif_counts[\"Motif\"].values\n",
      "/tmp/ipykernel_9655/3150799991.py:14: PerformanceWarning: DataFrame is highly fragmented.  This is usually the result of calling `frame.insert` many times, which has poor performance.  Consider joining all columns at once using pd.concat(axis=1) instead. To get a de-fragmented frame, use `newframe = frame.copy()`\n",
      "  null_df[\"Model {}\".format(j+1)] = motif_counts[\"Motif\"].values\n",
      "/tmp/ipykernel_9655/3150799991.py:14: PerformanceWarning: DataFrame is highly fragmented.  This is usually the result of calling `frame.insert` many times, which has poor performance.  Consider joining all columns at once using pd.concat(axis=1) instead. To get a de-fragmented frame, use `newframe = frame.copy()`\n",
      "  null_df[\"Model {}\".format(j+1)] = motif_counts[\"Motif\"].values\n"
     ]
    }
   ],
   "source": [
    "# Generating null models and counting the motifs for each one\n",
    "metrics_df = [] \n",
    "NUM = 100 # number of randomizations\n",
    "\n",
    "for i in range(len(d_frames)):\n",
    "    # Specify path of the folder\n",
    "    path = \"/home/kostasan00/Documents/Master Projects/Scripts/Null Models/Net {}/\".format(i+1)\n",
    "    # Data Frame that stores the motifs for each model\n",
    "    null_df = pd.DataFrame({\"Motif ID\": np.arange(1, 45)})\n",
    "    # Reading the null model files\n",
    "    for j in range(NUM):\n",
    "        model = pd.read_csv(path + \"Model_{}.csv\".format(j+1))\n",
    "        motif_counts = motifs(model, \"counts\")\n",
    "        null_df[\"Model {}\".format(j+1)] = motif_counts[\"Motif\"].values\n",
    "    # Statistic measures of motifs\n",
    "    stat_value = descr_stat(null_df, \"Motif ID\")\n",
    "    metrics_df.append(stat_value)"
   ]
  },
  {
   "cell_type": "code",
   "execution_count": 31,
   "id": "ad1671e6",
   "metadata": {},
   "outputs": [],
   "source": [
    "# Motif Counts of Empirical Networks\n",
    "counts_empirical = []\n",
    "for i in range(len(d_frames)):    \n",
    "    count_motifs = motifs(d_frames[i], \"counts\")\n",
    "    counts_empirical.append(count_motifs)"
   ]
  },
  {
   "cell_type": "code",
   "execution_count": 32,
   "id": "299068fe",
   "metadata": {},
   "outputs": [],
   "source": [
    "# Removing Difuntito\n",
    "del counts_empirical[dif_index]\n",
    "del metrics_df[dif_index]"
   ]
  },
  {
   "cell_type": "code",
   "execution_count": 34,
   "id": "29f1e07d",
   "metadata": {},
   "outputs": [],
   "source": [
    "# Calculating z-scores\n",
    "z_score_df = pd.DataFrame({\n",
    "    \"Motif ID\": np.arange(1, 45)\n",
    "})\n",
    "\n",
    "for i in range(0, 11):\n",
    "    z_score_df[\"Z-score: {}\".format(i+1)] = [z_score(counts_empirical[i].iloc[_, 1],\n",
    "                                                     metrics_df[i].iloc[_, 1],\n",
    "                                                     metrics_df[i].iloc[_, 3]) for _ in range(0, 44)]        "
   ]
  },
  {
   "cell_type": "code",
   "execution_count": 39,
   "id": "857e3a6a",
   "metadata": {},
   "outputs": [],
   "source": [
    "# Saving Z-scores data frame\n",
    "z_score_df.to_csv(\"z-scores.csv\")"
   ]
  },
  {
   "cell_type": "code",
   "execution_count": null,
   "id": "3edb84fc",
   "metadata": {},
   "outputs": [],
   "source": [
    "# Exporting table as a png image\n",
    "z_score_df.set_index(\"Motif ID\", inplace = True)\n",
    "dfi.export(z_score_df, 'Z-scores.png', table_conversion = \"matplotlib\")"
   ]
  }
 ],
 "metadata": {
  "kernelspec": {
   "display_name": "Python 3 (ipykernel)",
   "language": "python",
   "name": "python3"
  },
  "language_info": {
   "codemirror_mode": {
    "name": "ipython",
    "version": 3
   },
   "file_extension": ".py",
   "mimetype": "text/x-python",
   "name": "python",
   "nbconvert_exporter": "python",
   "pygments_lexer": "ipython3",
   "version": "3.9.16"
  }
 },
 "nbformat": 4,
 "nbformat_minor": 5
}
