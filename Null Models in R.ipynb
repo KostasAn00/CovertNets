{
 "cells": [
  {
   "cell_type": "code",
   "execution_count": 1,
   "id": "4787e427",
   "metadata": {},
   "outputs": [],
   "source": [
    "# Function for null model generation\n",
    "nullweb = function(ref)\n",
    "{\n",
    "  ref[ref>0] <- 1\n",
    "  margin <- ifelse(ncol(ref)< nrow(ref),2,1)\n",
    "  currentweb <- matrix(0,ncol=ncol(ref),nrow=nrow(ref))\n",
    "  pc <- colMeans(ref)\n",
    "  pr <- rowMeans(ref)\n",
    "  if(margin==2)\n",
    "  {\n",
    "    for(i in 1:ncol(ref))\n",
    "    {\n",
    "      currentweb[,i] <- (pc[i]+pr)/2\n",
    "    }\n",
    "  } else {\n",
    "    for(i in 1:nrow(ref))\n",
    "    {\n",
    "      currentweb[i,] <- (pr[i]+pc)/2\n",
    "    }\n",
    "  }\n",
    "  return(apply(currentweb,margin,function(x)rbinom(length(x),1,x)))\n",
    "}"
   ]
  },
  {
   "cell_type": "code",
   "execution_count": 13,
   "id": "d300facf",
   "metadata": {},
   "outputs": [],
   "source": [
    "# Generating null models and saving the occurring matrices as a csv file \n",
    "\n",
    "NUM = 100\n",
    "df <- as.matrix(read.csv(\"M_PL_072_12.csv\", header=T, row.names=1))\n",
    "\n",
    "for(i in 1:NUM)\n",
    "{\n",
    "    model = nullweb(df)\n",
    "    file_path <- paste0(\"/home/kostasan00/Documents/Master Projects/Scripts/Null Models/Net 12/Model_\", i, \".csv\")\n",
    "    write.csv(model, file = file_path, row.names = FALSE)\n",
    "}"
   ]
  },
  {
   "cell_type": "code",
   "execution_count": null,
   "id": "aadce59c",
   "metadata": {},
   "outputs": [],
   "source": []
  }
 ],
 "metadata": {
  "kernelspec": {
   "display_name": "R",
   "language": "R",
   "name": "ir"
  },
  "language_info": {
   "codemirror_mode": "r",
   "file_extension": ".r",
   "mimetype": "text/x-r-source",
   "name": "R",
   "pygments_lexer": "r",
   "version": "4.2.0"
  }
 },
 "nbformat": 4,
 "nbformat_minor": 5
}
