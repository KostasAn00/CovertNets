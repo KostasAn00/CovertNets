{
 "cells": [
  {
   "cell_type": "markdown",
   "metadata": {},
   "source": [
    "## What is this notebook about\n",
    "\n",
    "In this notebook we shall investigate the structure of the network of the Jemmah-Islamiyah cell that executed the Bali attack in October 2002. Conclusions will be drawn from several network metrics to uncover the inner structure of the terrorist cell. The density, the average degree and the average shortest path length will be compared to the corresponding values of the 9-11 Hijackers network, to assess whether the Jemmah-Islamiyah network focused on secrecy or on efficiency. Then, we will use four important centrality measures to find the most important actors in the network."
   ]
  },
  {
   "cell_type": "code",
   "execution_count": null,
   "metadata": {},
   "outputs": [],
   "source": [
    "# Libraries\n",
    "import pandas as pd\n",
    "import networkx as nx\n",
    "import matplotlib.pyplot as plt\n",
    "import scipy. special\n",
    "import csv\n",
    "import numpy as np\n",
    "from operator import itemgetter\n",
    "from networkx.algorithms import community\n",
    "from matplotlib.pyplot import figure\n",
    "from random import random\n",
    "from matplotlib.lines import Line2D"
   ]
  },
  {
   "cell_type": "code",
   "execution_count": null,
   "metadata": {},
   "outputs": [],
   "source": [
    "# Function \n",
    "def efficiency(dictionary, nodes_no):\n",
    "    \n",
    "    '''This function calculates the average efficiency of a graph. Its inputs are a dictionary that \n",
    "    contains the shortest paths for each node and the number of nodes of the network. We create a \n",
    "    summation variable that will be used in a nested loop and an empty list that will save the \n",
    "    local efficiencies for each node. The function returns the average efficiency for the graph.'''\n",
    "    \n",
    "    sum_per_n = 0\n",
    "    local_eff = []\n",
    "    \n",
    "    for key1 in dictionary:\n",
    "        for key2 in dictionary[key1]:\n",
    "            x = dictionary[key1][key2]\n",
    "            if x != 0:\n",
    "                sum_per_n += (1 / x)\n",
    "        local_eff.append(sum_per_n)\n",
    "        \n",
    "    return sum(local_eff) / ((nodes_no)*(nodes_no - 1))    "
   ]
  },
  {
   "cell_type": "code",
   "execution_count": null,
   "metadata": {},
   "outputs": [],
   "source": [
    "# Edgelist dataframe\n",
    "dataset = pd.read_excel(\"JemaahE.xlsx\")\n",
    "df = pd.DataFrame(dataset)\n",
    "\n",
    "# Creating the graph\n",
    "G = nx.from_pandas_edgelist(df, \"from\", \"to\", edge_attr = [\"weight\"])\n",
    "\n",
    "# Weight list\n",
    "weights = list(df[\"weight\"])\n",
    "\n",
    "# Adding a new column with new weights as the reciprocal of the inicial ones\n",
    "df[\"Weights\"] = 1 / df[\"weight\"]\n",
    "\n",
    "# Printing some information\n",
    "G.name = \"Jemaah-Islamiyah terrorist cell\"\n",
    "n = len(G.nodes)\n",
    "print(nx.info(G))"
   ]
  },
  {
   "cell_type": "code",
   "execution_count": null,
   "metadata": {},
   "outputs": [],
   "source": [
    "# Assigning color to each node according to role attribute\n",
    "colors = {\n",
    "    \"red\": [\"1\", \"Suicide Bombers\"],\n",
    "    \"cyan\": [\"2\", \"Team Lima\"],\n",
    "    \"green\": [\"3\", \"Operation Assistants\"],\n",
    "    \"yellow\": [\"4\", \"Bomb Makers\"],\n",
    "    \"gray\": [\"5\", \"Command Team\"]\n",
    "}\n",
    "\n",
    "# List of node colors\n",
    "node_color = [\"gray\", \"green\", \"green\", \"gray\", \"yellow\",  \"gray\", \"yellow\",\n",
    "             \"yellow\", \"yellow\", \"yellow\", \"green\", \"red\", \"red\",\n",
    "             \"cyan\", \"cyan\", \"cyan\", \"cyan\"]\n",
    "\n",
    "# Elements for color legend\n",
    "legend_elements = []\n",
    "for key in colors:\n",
    "    x = Line2D([0], [0], marker = 'o', color = 'w', label = colors[key][1],\n",
    "           markerfacecolor = key, markersize = 15)\n",
    "    legend_elements.append(x)"
   ]
  },
  {
   "cell_type": "code",
   "execution_count": null,
   "metadata": {},
   "outputs": [],
   "source": [
    "# Plot of the Graph\n",
    "plt.rcParams['figure.figsize'] = [25, 15]\n",
    "pos = nx.spring_layout(G, seed = 30) # Visualization according to the Fruchterman-Reingold force-directed algorithm\n",
    "nx.draw_networkx(G, pos, node_size = 2000, font_size = 9, node_color = node_color, width = weights )\n",
    "plt.legend(handles=legend_elements, prop={'size': 20})\n",
    "plt.title(\"Jemaah-Islamiyah terrorist network\", fontsize = 30)\n",
    "plt.show()"
   ]
  },
  {
   "cell_type": "markdown",
   "metadata": {},
   "source": [
    "### 1. Scores\n",
    "\n",
    "We calculate some important scores that uncover the basic structure of the terrorist cell."
   ]
  },
  {
   "cell_type": "code",
   "execution_count": null,
   "metadata": {},
   "outputs": [],
   "source": [
    "metrics = {\n",
    "    \"Metric\": [\"Order(n)\", \"Size(n)\", \"<d>\", \"Density\", \"Mean Geodesic\", \"Diameter\"],\n",
    "    \"Values\": [len(G.nodes), len(G.edges), 7.29, nx.density(G),\n",
    "               nx.average_shortest_path_length(G, weight = \"Weights\"), nx.diameter(G)]\n",
    "}\n",
    "metrics_df = pd.DataFrame(metrics)\n",
    "metrics_df"
   ]
  },
  {
   "cell_type": "code",
   "execution_count": null,
   "metadata": {},
   "outputs": [],
   "source": [
    "# Network efficiency\n",
    "paths1 = dict(nx.shortest_path_length(G, weight = \"Weights\"))\n",
    "eff1 = efficiency(paths1, n)"
   ]
  },
  {
   "cell_type": "markdown",
   "metadata": {},
   "source": [
    "### 2. Centralities\n",
    "\n",
    "Important actors are found by measuring the centralities for each node of the network. We limit ourselves to the investigation of the normalized values of the Degree centrality, Closeness, Betweenness centrality and the Neighbor density. Note that this network is a weighted one, therefore the centrality formulas for binary relations are modified (distant measures are approximated by the reciprocals of the weights of the edges). "
   ]
  },
  {
   "cell_type": "code",
   "execution_count": null,
   "metadata": {},
   "outputs": [],
   "source": [
    "# A list with the calculated centralities, where each element is a dictionary\n",
    "centralities = [nx.degree_centrality(G), nx.betweenness_centrality(G, weight = \"Weights\"),\n",
    "               nx.closeness_centrality(G, distance = \"Weights\")]"
   ]
  },
  {
   "cell_type": "code",
   "execution_count": null,
   "metadata": {},
   "outputs": [],
   "source": [
    "# Neighbor Densities\n",
    "neigh_dens = []\n",
    "for node in G.nodes:\n",
    "    sub_nodes = list(G.neighbors(node))\n",
    "    if len(list(G.neighbors(node))) == 1:\n",
    "        neigh_dens.append(0)\n",
    "    elif len(list(G.neighbors(node))) == 2:\n",
    "        sub_G = G.subgraph(sub_nodes)\n",
    "        edg1 = sub_G.number_of_edges() / 2\n",
    "        neigh_dens.append(edg1 / scipy.special.comb(len(list(G.neighbors(node))), 2))\n",
    "    else:    \n",
    "        sub_G = G.subgraph(sub_nodes)\n",
    "        edg1 = sub_G.number_of_edges()\n",
    "        neigh_dens.append(edg1 / scipy.special.comb(len(list(G.neighbors(node))), 2))"
   ]
  },
  {
   "cell_type": "code",
   "execution_count": null,
   "metadata": {},
   "outputs": [],
   "source": [
    "degrees = dict(G.degree(G.nodes))\n",
    "sort_deg = sorted(degrees.items(), key = itemgetter(1), reverse = False)\n",
    "\n",
    "# List of degrees only\n",
    "degs = []\n",
    "for _ in range(len(sort_deg)):\n",
    "    degs.append(sort_deg[_][1])\n",
    "    \n",
    "# Plotting the degree distribution\n",
    "fig_dims = (10, 5)\n",
    "fig, ax = plt.subplots(figsize=fig_dims,)\n",
    "plt.title('Degrees Histogram', fontdict = {'size': 20}, loc = 'center')\n",
    "plt.xlabel(\"Degree values\", fontdict = {'size': 15})\n",
    "plt.ylabel(\"Frequency\", fontdict = {'size': 15})\n",
    "plt.hist(degs, edgecolor = \"black\")\n",
    "plt.show()"
   ]
  },
  {
   "cell_type": "code",
   "execution_count": null,
   "metadata": {},
   "outputs": [],
   "source": [
    "strengths = dict(nx.degree(G, weight = \"weight\"))\n",
    "sort_stren = sorted(strengths.items(), key = itemgetter(1), reverse = False)\n",
    "\n",
    "# List of degrees only\n",
    "stren = []\n",
    "for _ in range(len(sort_stren)):\n",
    "    stren.append(sort_stren[_][1])\n",
    "    \n",
    "# Plotting the degree distribution\n",
    "fig_dims = (10, 5)\n",
    "fig, ax = plt.subplots(figsize=fig_dims,)\n",
    "plt.title('Strength Histogram', fontdict = {'size': 20}, loc = 'center')\n",
    "plt.xlabel(\"Strength values\", fontdict = {'size': 15})\n",
    "plt.ylabel(\"Frequency\", fontdict = {'size': 15})\n",
    "plt.hist(stren, edgecolor = \"black\")\n",
    "plt.show()"
   ]
  },
  {
   "cell_type": "code",
   "execution_count": null,
   "metadata": {},
   "outputs": [],
   "source": [
    "# Betweenness centrality distribution\n",
    "bet_list = []\n",
    "for key in centralities[1]:\n",
    "    bet_list.append(centralities[1][key])\n",
    "\n",
    "# Plot\n",
    "fig_dims = (10, 5)\n",
    "fig, ax = plt.subplots(figsize=fig_dims,)\n",
    "plt.title('Betweenness Histogram', fontdict = {'size': 20}, loc = 'center')\n",
    "plt.xlabel(\"Betweenness values\", fontdict = {'size': 15})\n",
    "plt.ylabel(\"Frequency\", fontdict = {'size': 15})\n",
    "plt.hist(bet_list, edgecolor = \"black\")\n",
    "plt.show()"
   ]
  },
  {
   "cell_type": "markdown",
   "metadata": {},
   "source": [
    "### 3. Attack in the Bali network \n",
    "\n",
    "We will try to remove some of the main actors in the network to investigate its efficiency."
   ]
  },
  {
   "cell_type": "code",
   "execution_count": null,
   "metadata": {},
   "outputs": [],
   "source": [
    "# Node removal from the cluster\n",
    "G.remove_node(\"Ghoni\")\n",
    "paths1 = dict(nx.shortest_path_length(G, weight = \"Weights\"))\n",
    "eff2 = efficiency(paths1, len(G.nodes))"
   ]
  },
  {
   "cell_type": "code",
   "execution_count": null,
   "metadata": {},
   "outputs": [],
   "source": [
    "# Removing Samudra (Need to restore the initial network first)\n",
    "G.remove_node(\"Samudra\")\n",
    "paths2 = dict(nx.shortest_path_length(G, weight = \"Weights\"))\n",
    "eff3 = efficiency(paths2, len(G.nodes))"
   ]
  },
  {
   "cell_type": "code",
   "execution_count": null,
   "metadata": {},
   "outputs": [],
   "source": [
    "# Removing Idris (and Samudra)\n",
    "G.remove_node(\"Idris\")\n",
    "paths3 = dict(nx.shortest_path_length(G, weight = \"Weights\"))\n",
    "eff4 = efficiency(paths3, len(G.nodes))"
   ]
  },
  {
   "cell_type": "code",
   "execution_count": null,
   "metadata": {},
   "outputs": [],
   "source": [
    "# Removing Muklas (and Samudra and Idris)\n",
    "G.remove_node(\"Muklas\")\n",
    "paths4 = dict(nx.shortest_path_length(G, weight = \"Weights\"))\n",
    "eff5 = efficiency(paths4, len(G.nodes))"
   ]
  },
  {
   "cell_type": "code",
   "execution_count": null,
   "metadata": {},
   "outputs": [],
   "source": [
    "efficiencies = {\n",
    "    \"Scenario\": [1, 2, 3, 4],\n",
    "    \"Efficiencies\": [eff2, eff3, eff4, eff5],\n",
    "    \"Reduction\": [1-(eff2 / eff1), 1-(eff3 / eff1), 1-(eff4 / eff1), 1-(eff5 / eff1)]\n",
    "}\n",
    "eff_df = pd.DataFrame(efficiencies)\n",
    "eff_df"
   ]
  },
  {
   "cell_type": "markdown",
   "metadata": {},
   "source": [
    "### 4. Conclusions and thoughts drawn from the analysis\n",
    "\n",
    "The comparison between the Jemmah terrorist cell and the al-Qaeda Hijackers cell, shows that the latter one preferred to sacrifice the optimal efficiency to ensure the greatest secrecy possible. On the other hand, the Jemmah-Islamiyah terrorist cell was built to act more efficiently which rendered it more exposed. All these can be understood by comparing the density, average degree and average shortest path length values. It should be noted that the hijackers of 9-11 attacks, in order to enhance their efficiency within the network, they used temporary links that reduced the average geodesic when activated. These hidden links ensured better information flow in order for the entire network to coordinate their acts(Krebs, 2002). This was achieved with the organisation of meetings(eg. The one in Las Vegas). \n",
    "\n",
    "The hijackers acted in the USA, whereas the Jemmah terrosist cell acted in Indonesia. In the case of hijackers secrecy was preffered, whereas in the second case efficiency was preferred. We can therefore, ask ourselves whether it is a common practice of terrorrists cells to focus on secrecy when operations are planned against countries with high surveillance and strong Intelligence agencies, such as the USA."
   ]
  }
 ],
 "metadata": {
  "kernelspec": {
   "display_name": "Python 3",
   "language": "python",
   "name": "python3"
  },
  "language_info": {
   "codemirror_mode": {
    "name": "ipython",
    "version": 3
   },
   "file_extension": ".py",
   "mimetype": "text/x-python",
   "name": "python",
   "nbconvert_exporter": "python",
   "pygments_lexer": "ipython3",
   "version": "3.8.8"
  }
 },
 "nbformat": 4,
 "nbformat_minor": 4
}
